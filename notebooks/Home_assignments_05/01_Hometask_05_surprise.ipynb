version https://git-lfs.github.com/spec/v1
oid sha256:52c9910e3977ab1659fd326ebd61eeb651c20257378893ecf3269593d43e344b
size 504503
